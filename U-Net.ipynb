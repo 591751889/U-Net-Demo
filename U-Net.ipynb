{
 "cells": [
  {
   "cell_type": "markdown",
   "metadata": {},
   "source": [
    "# U-Net图像分割\n",
    "\n",
    "code来源：\n",
    "https://www.kaggle.com/keegil/keras-u-net-starter-lb-0-277?scriptVersionId=2164855/notebook\n",
    "\n",
    "数据来源code：\n",
    "https://github.com/kamalkraj/DATA-SCIENCE-BOWL-2018/blob/master/Data_Science_Bowl_2018.ipynb"
   ]
  },
  {
   "cell_type": "code",
   "execution_count": null,
   "metadata": {},
   "outputs": [],
   "source": [
    "# Data download and unzipping\n",
    "!wget https://raw.githubusercontent.com/AakashSudhakar/2018-data-science-bowl/master/compressed_files/stage1_test.zip -c\n",
    "!wget https://raw.githubusercontent.com/AakashSudhakar/2018-data-science-bowl/master/compressed_files/stage1_train.zip -c\n",
    "\n",
    "!mkdir stage1_train stage1_test\n",
    "!unzip stage1_train.zip -d stage1_train/\n",
    "!unzip stage1_test.zip -d stage1_test/"
   ]
  },
  {
   "cell_type": "code",
   "execution_count": 1,
   "metadata": {},
   "outputs": [
    {
     "name": "stderr",
     "output_type": "stream",
     "text": [
      "Using TensorFlow backend.\n"
     ]
    }
   ],
   "source": [
    "import os\n",
    "import sys\n",
    "import random\n",
    "import warnings\n",
    "\n",
    "# 需要指定一下数据目录\n",
    "sys.path.append('/mnt/unet/')\n",
    "\n",
    "import numpy as np\n",
    "import pandas as pd\n",
    "\n",
    "import matplotlib.pyplot as plt\n",
    "\n",
    "\n",
    "import tensorflow as tf\n",
    "from keras.backend.tensorflow_backend import set_session\n",
    "config = tf.ConfigProto()\n",
    "config.gpu_options.per_process_gpu_memory_fraction = 0.4\n",
    "set_session(tf.Session(config=config))\n",
    "\n",
    "from tqdm import tqdm\n",
    "from itertools import chain\n",
    "from skimage.io import imread, imshow, imread_collection, concatenate_images\n",
    "from skimage.transform import resize\n",
    "from skimage.morphology import label\n",
    "\n",
    "from keras.models import Model, load_model\n",
    "from keras.layers import Input\n",
    "from keras.layers.core import Lambda\n",
    "from keras.layers.convolutional import Conv2D, Conv2DTranspose\n",
    "from keras.layers.pooling import MaxPooling2D\n",
    "from keras.layers.merge import concatenate\n",
    "from keras.callbacks import EarlyStopping, ModelCheckpoint\n",
    "from keras import backend as K\n",
    "\n",
    "# Set some parameters\n",
    "IMG_WIDTH = 128\n",
    "IMG_HEIGHT = 128\n",
    "IMG_CHANNELS = 3\n",
    "TRAIN_PATH = './stage1_train/'\n",
    "TEST_PATH = './stage1_test/'\n",
    "\n",
    "warnings.filterwarnings('ignore', category=UserWarning, module='skimage')\n",
    "seed = 42\n",
    "random.seed = seed\n",
    "np.random.seed = seed\n",
    "\n",
    "# Get train and test IDs\n",
    "train_ids = next(os.walk(TRAIN_PATH))[1]  # 670\n",
    "test_ids = next(os.walk(TEST_PATH))[1]    # 65"
   ]
  },
  {
   "cell_type": "markdown",
   "metadata": {},
   "source": [
    "## Get the data\n",
    "Let's first import all the images and associated masks. I downsample both the training and test images to keep things light and manageable, but we need to keep a record of the original sizes of the test images to upsample our predicted masks and create correct run-length encodings later on. There are definitely better ways to handle this, but it works fine for now!\n"
   ]
  },
  {
   "cell_type": "code",
   "execution_count": 8,
   "metadata": {},
   "outputs": [
    {
     "name": "stdout",
     "output_type": "stream",
     "text": [
      "Getting and resizing train images and masks ... \n"
     ]
    },
    {
     "name": "stderr",
     "output_type": "stream",
     "text": [
      "100%|██████████| 670/670 [01:16<00:00,  8.74it/s]"
     ]
    },
    {
     "name": "stdout",
     "output_type": "stream",
     "text": [
      "Getting and resizing test images ... \n"
     ]
    },
    {
     "name": "stderr",
     "output_type": "stream",
     "text": [
      "\n",
      "100%|██████████| 65/65 [00:00<00:00, 100.11it/s]"
     ]
    },
    {
     "name": "stdout",
     "output_type": "stream",
     "text": [
      "Data Generate Done!\n"
     ]
    },
    {
     "name": "stderr",
     "output_type": "stream",
     "text": [
      "\n"
     ]
    }
   ],
   "source": [
    "def data_generator(train_ids,test_ids):\n",
    "    # Get and resize train images and masks\n",
    "    X_train = np.zeros((len(train_ids), IMG_HEIGHT, IMG_WIDTH, IMG_CHANNELS), dtype=np.uint8)\n",
    "    Y_train = np.zeros((len(train_ids), IMG_HEIGHT, IMG_WIDTH, 1), dtype=np.bool)\n",
    "    print('Getting and resizing train images and masks ... ')\n",
    "    sys.stdout.flush()\n",
    "    for n, id_ in tqdm(enumerate(train_ids), total=len(train_ids)):\n",
    "        path = TRAIN_PATH + id_\n",
    "        img = imread(path + '/images/' + id_ + '.png')[:,:,:IMG_CHANNELS]\n",
    "        img = resize(img, (IMG_HEIGHT, IMG_WIDTH), mode='constant', preserve_range=True) # resize成128*128\n",
    "        X_train[n] = img\n",
    "        mask = np.zeros((IMG_HEIGHT, IMG_WIDTH, 1), dtype=np.bool)\n",
    "        for mask_file in next(os.walk(path + '/masks/'))[2]:\n",
    "            mask_ = imread(path + '/masks/' + mask_file)\n",
    "            mask_ = np.expand_dims(resize(mask_, (IMG_HEIGHT, IMG_WIDTH), mode='constant', \n",
    "                                          preserve_range=True), axis=-1)\n",
    "            mask = np.maximum(mask, mask_)\n",
    "        Y_train[n] = mask\n",
    "\n",
    "    # Get and resize test images\n",
    "    X_test = np.zeros((len(test_ids), IMG_HEIGHT, IMG_WIDTH, IMG_CHANNELS), dtype=np.uint8)\n",
    "    sizes_test = []\n",
    "    print('Getting and resizing test images ... ')\n",
    "    sys.stdout.flush()\n",
    "    for n, id_ in tqdm(enumerate(test_ids), total=len(test_ids)):\n",
    "        path = TEST_PATH + id_\n",
    "        img = imread(path + '/images/' + id_ + '.png')[:,:,:IMG_CHANNELS]\n",
    "        sizes_test.append([img.shape[0], img.shape[1]])\n",
    "        img = resize(img, (IMG_HEIGHT, IMG_WIDTH), mode='constant', preserve_range=True)\n",
    "        X_test[n] = img\n",
    "\n",
    "    print('Data Generate Done!')\n",
    "    return X_train,Y_train,X_test,sizes_test\n",
    "\n",
    "X_train,Y_train,X_test,sizes_test = data_generator(train_ids,test_ids)\n",
    "# X_train (670, 128, 128, 3)\n",
    "# Y_train (670, 128, 128, 1)\n",
    "# X_test  (65, 128, 128, 3)\n",
    "# sizes_test (65,2)"
   ]
  },
  {
   "cell_type": "code",
   "execution_count": 5,
   "metadata": {},
   "outputs": [
    {
     "data": {
      "image/png": "[encoded data removed]",
      "text/plain": [
       "<matplotlib.figure.Figure at 0x7f53b9a97438>"
      ]
     },
     "metadata": {},
     "output_type": "display_data"
    },
    {
     "data": {
      "image/png": "[encoded data removed]",
      "text/plain": [
       "<matplotlib.figure.Figure at 0x7f53b9b20470>"
      ]
     },
     "metadata": {},
     "output_type": "display_data"
    }
   ],
   "source": [
    "# Check if training data looks all right\n",
    "# 查看数据是否正确\n",
    "ix = random.randint(0, len(train_ids))\n",
    "imshow(X_train[ix])\n",
    "plt.show()\n",
    "imshow(np.squeeze(Y_train[ix]))\n",
    "plt.show()"
   ]
  },
  {
   "cell_type": "markdown",
   "metadata": {},
   "source": [
    "## Create our Keras metric\n",
    "Now we try to define the mean average precision at different intersection over union (IoU) thresholds metric in Keras. TensorFlow has a mean IoU metric, but it doesn't have any native support for the mean over multiple thresholds, so I tried to implement this. I'm by no means certain that this implementation is correct, though! Any assistance in verifying this would be most welcome!\n",
    "\n",
    "Update: This implementation is most definitely not correct due to the very large discrepancy between the results reported here and the LB results. It also seems to just increase over time no matter what when you train ..."
   ]
  },
  {
   "cell_type": "code",
   "execution_count": 5,
   "metadata": {},
   "outputs": [],
   "source": [
    "# Define IoU metric\n",
    "def mean_iou(y_true, y_pred):\n",
    "    prec = []\n",
    "    for t in np.arange(0.5, 1.0, 0.05):\n",
    "        y_pred_ = tf.to_int32(y_pred > t)\n",
    "        score, up_opt = tf.metrics.mean_iou(y_true, y_pred_, 2)\n",
    "        K.get_session().run(tf.local_variables_initializer())\n",
    "        with tf.control_dependencies([up_opt]):\n",
    "            score = tf.identity(score)\n",
    "        prec.append(score)\n",
    "    return K.mean(K.stack(prec), axis=0)"
   ]
  },
  {
   "cell_type": "markdown",
   "metadata": {},
   "source": [
    "## Build and train our neural network\n",
    "\n",
    "Next we build our U-Net model, loosely based on U-Net: Convolutional Networks for Biomedical Image Segmentation and very similar to this repo from the Kaggle Ultrasound Nerve Segmentation competition.\n",
    "\n",
    "![模型结构图](https://lmb.informatik.uni-freiburg.de/people/ronneber/u-net/u-net-architecture.png)\n",
    "\n"
   ]
  },
  {
   "cell_type": "code",
   "execution_count": 6,
   "metadata": {},
   "outputs": [],
   "source": [
    "def UNetModel(IMG_HEIGHT,IMG_WIDTH,IMG_CHANNELS):\n",
    "    inputs = Input((IMG_HEIGHT, IMG_WIDTH, IMG_CHANNELS))\n",
    "    s = Lambda(lambda x: x / 255) (inputs)\n",
    "\n",
    "    c1 = Conv2D(8, (3, 3), activation='relu', padding='same') (s)\n",
    "    c1 = Conv2D(8, (3, 3), activation='relu', padding='same') (c1)\n",
    "    p1 = MaxPooling2D((2, 2)) (c1)\n",
    "\n",
    "    c2 = Conv2D(16, (3, 3), activation='relu', padding='same') (p1)\n",
    "    c2 = Conv2D(16, (3, 3), activation='relu', padding='same') (c2)\n",
    "    p2 = MaxPooling2D((2, 2)) (c2)\n",
    "\n",
    "    c3 = Conv2D(32, (3, 3), activation='relu', padding='same') (p2)\n",
    "    c3 = Conv2D(32, (3, 3), activation='relu', padding='same') (c3)\n",
    "    p3 = MaxPooling2D((2, 2)) (c3)\n",
    "\n",
    "    c4 = Conv2D(64, (3, 3), activation='relu', padding='same') (p3)\n",
    "    c4 = Conv2D(64, (3, 3), activation='relu', padding='same') (c4)\n",
    "    p4 = MaxPooling2D(pool_size=(2, 2)) (c4)\n",
    "\n",
    "    c5 = Conv2D(128, (3, 3), activation='relu', padding='same') (p4)\n",
    "    c5 = Conv2D(128, (3, 3), activation='relu', padding='same') (c5)\n",
    "\n",
    "    u6 = Conv2DTranspose(64, (2, 2), strides=(2, 2), padding='same') (c5)\n",
    "    u6 = concatenate([u6, c4])\n",
    "    c6 = Conv2D(64, (3, 3), activation='relu', padding='same') (u6)\n",
    "    c6 = Conv2D(64, (3, 3), activation='relu', padding='same') (c6)\n",
    "\n",
    "    u7 = Conv2DTranspose(32, (2, 2), strides=(2, 2), padding='same') (c6)\n",
    "    u7 = concatenate([u7, c3])\n",
    "    c7 = Conv2D(32, (3, 3), activation='relu', padding='same') (u7)\n",
    "    c7 = Conv2D(32, (3, 3), activation='relu', padding='same') (c7)\n",
    "\n",
    "    u8 = Conv2DTranspose(16, (2, 2), strides=(2, 2), padding='same') (c7)\n",
    "    u8 = concatenate([u8, c2])\n",
    "    c8 = Conv2D(16, (3, 3), activation='relu', padding='same') (u8)\n",
    "    c8 = Conv2D(16, (3, 3), activation='relu', padding='same') (c8)\n",
    "\n",
    "    u9 = Conv2DTranspose(8, (2, 2), strides=(2, 2), padding='same') (c8)\n",
    "    u9 = concatenate([u9, c1], axis=3)\n",
    "    c9 = Conv2D(8, (3, 3), activation='relu', padding='same') (u9)\n",
    "    c9 = Conv2D(8, (3, 3), activation='relu', padding='same') (c9)\n",
    "\n",
    "    outputs = Conv2D(1, (1, 1), activation='sigmoid') (c9)\n",
    "\n",
    "    model = Model(inputs=[inputs], outputs=[outputs])\n",
    "    model.compile(optimizer='adam', loss='binary_crossentropy', metrics=[mean_iou])\n",
    "    return model\n",
    "\n",
    "model = UNetModel(IMG_HEIGHT,IMG_WIDTH,IMG_CHANNELS)"
   ]
  },
  {
   "cell_type": "markdown",
   "metadata": {},
   "source": [
    "## Fit model\n",
    "\n",
    "I'll just train for 10 epochs, which takes around 10 minutes in the Kaggle kernel with the current parameters.\n",
    "\n",
    "Update: Added early stopping and checkpointing and increased to 30 epochs.\n",
    "\n",
    "ou should easily be able to stabilize and improve the results just by changing a few parameters, tweaking the architecture a little bit and training longer with early stopping."
   ]
  },
  {
   "cell_type": "code",
   "execution_count": 8,
   "metadata": {},
   "outputs": [
    {
     "name": "stdout",
     "output_type": "stream",
     "text": [
      "Train on 603 samples, validate on 67 samples\n",
      "Epoch 1/30\n",
      "600/603 [============================>.] - ETA: 0s - loss: 0.5000 - mean_iou: 0.4169Epoch 00001: val_loss improved from inf to 0.39077, saving model to model-dsbowl2018-1.h5\n",
      "603/603 [==============================] - 6s 9ms/step - loss: 0.4996 - mean_iou: 0.4169 - val_loss: 0.3908 - val_mean_iou: 0.4232\n",
      "Epoch 2/30\n",
      "600/603 [============================>.] - ETA: 0s - loss: 0.3269 - mean_iou: 0.4247Epoch 00002: val_loss improved from 0.39077 to 0.24166, saving model to model-dsbowl2018-1.h5\n",
      "603/603 [==============================] - 3s 5ms/step - loss: 0.3260 - mean_iou: 0.4247 - val_loss: 0.2417 - val_mean_iou: 0.4361\n",
      "Epoch 3/30\n",
      "592/603 [============================>.] - ETA: 0s - loss: 0.1859 - mean_iou: 0.4758Epoch 00003: val_loss improved from 0.24166 to 0.15848, saving model to model-dsbowl2018-1.h5\n",
      "603/603 [==============================] - 3s 5ms/step - loss: 0.1856 - mean_iou: 0.4765 - val_loss: 0.1585 - val_mean_iou: 0.5148\n",
      "Epoch 4/30\n",
      "600/603 [============================>.] - ETA: 0s - loss: 0.1387 - mean_iou: 0.5452Epoch 00004: val_loss improved from 0.15848 to 0.15135, saving model to model-dsbowl2018-1.h5\n",
      "603/603 [==============================] - 3s 5ms/step - loss: 0.1384 - mean_iou: 0.5454 - val_loss: 0.1513 - val_mean_iou: 0.5742\n",
      "Epoch 5/30\n",
      "600/603 [============================>.] - ETA: 0s - loss: 0.1201 - mean_iou: 0.5971Epoch 00005: val_loss improved from 0.15135 to 0.12357, saving model to model-dsbowl2018-1.h5\n",
      "603/603 [==============================] - 3s 5ms/step - loss: 0.1200 - mean_iou: 0.5971 - val_loss: 0.1236 - val_mean_iou: 0.6175\n",
      "Epoch 6/30\n",
      "600/603 [============================>.] - ETA: 0s - loss: 0.1133 - mean_iou: 0.6338Epoch 00006: val_loss did not improve\n",
      "603/603 [==============================] - 3s 5ms/step - loss: 0.1130 - mean_iou: 0.6339 - val_loss: 0.1280 - val_mean_iou: 0.6477\n",
      "Epoch 7/30\n",
      "600/603 [============================>.] - ETA: 0s - loss: 0.1074 - mean_iou: 0.6593Epoch 00007: val_loss did not improve\n",
      "603/603 [==============================] - 3s 5ms/step - loss: 0.1072 - mean_iou: 0.6594 - val_loss: 0.1258 - val_mean_iou: 0.6702\n",
      "Epoch 8/30\n",
      "600/603 [============================>.] - ETA: 0s - loss: 0.1071 - mean_iou: 0.6795Epoch 00008: val_loss improved from 0.12357 to 0.11764, saving model to model-dsbowl2018-1.h5\n",
      "603/603 [==============================] - 3s 5ms/step - loss: 0.1067 - mean_iou: 0.6795 - val_loss: 0.1176 - val_mean_iou: 0.6873\n",
      "Epoch 9/30\n",
      "592/603 [============================>.] - ETA: 0s - loss: 0.0975 - mean_iou: 0.6946Epoch 00009: val_loss improved from 0.11764 to 0.10682, saving model to model-dsbowl2018-1.h5\n",
      "603/603 [==============================] - 3s 5ms/step - loss: 0.0975 - mean_iou: 0.6948 - val_loss: 0.1068 - val_mean_iou: 0.7022\n",
      "Epoch 10/30\n",
      "600/603 [============================>.] - ETA: 0s - loss: 0.0960 - mean_iou: 0.7082Epoch 00010: val_loss improved from 0.10682 to 0.10215, saving model to model-dsbowl2018-1.h5\n",
      "603/603 [==============================] - 3s 5ms/step - loss: 0.0967 - mean_iou: 0.7083 - val_loss: 0.1021 - val_mean_iou: 0.7137\n",
      "Epoch 11/30\n",
      "600/603 [============================>.] - ETA: 0s - loss: 0.0908 - mean_iou: 0.7189Epoch 00011: val_loss improved from 0.10215 to 0.10012, saving model to model-dsbowl2018-1.h5\n",
      "603/603 [==============================] - 3s 5ms/step - loss: 0.0904 - mean_iou: 0.7189 - val_loss: 0.1001 - val_mean_iou: 0.7242\n",
      "Epoch 12/30\n",
      "600/603 [============================>.] - ETA: 0s - loss: 0.0895 - mean_iou: 0.7289Epoch 00012: val_loss did not improve\n",
      "603/603 [==============================] - 3s 5ms/step - loss: 0.0894 - mean_iou: 0.7289 - val_loss: 0.1001 - val_mean_iou: 0.7334\n",
      "Epoch 13/30\n",
      "600/603 [============================>.] - ETA: 0s - loss: 0.0877 - mean_iou: 0.7375Epoch 00013: val_loss improved from 0.10012 to 0.09696, saving model to model-dsbowl2018-1.h5\n",
      "603/603 [==============================] - 3s 5ms/step - loss: 0.0879 - mean_iou: 0.7375 - val_loss: 0.0970 - val_mean_iou: 0.7413\n",
      "Epoch 14/30\n",
      "600/603 [============================>.] - ETA: 0s - loss: 0.0860 - mean_iou: 0.7449Epoch 00014: val_loss did not improve\n",
      "603/603 [==============================] - 3s 5ms/step - loss: 0.0862 - mean_iou: 0.7449 - val_loss: 0.0990 - val_mean_iou: 0.7482\n",
      "Epoch 15/30\n",
      "600/603 [============================>.] - ETA: 0s - loss: 0.0847 - mean_iou: 0.7516Epoch 00015: val_loss improved from 0.09696 to 0.08973, saving model to model-dsbowl2018-1.h5\n",
      "603/603 [==============================] - 3s 5ms/step - loss: 0.0844 - mean_iou: 0.7516 - val_loss: 0.0897 - val_mean_iou: 0.7545\n",
      "Epoch 16/30\n",
      "600/603 [============================>.] - ETA: 0s - loss: 0.0809 - mean_iou: 0.7573Epoch 00016: val_loss did not improve\n",
      "603/603 [==============================] - 3s 5ms/step - loss: 0.0808 - mean_iou: 0.7573 - val_loss: 0.0929 - val_mean_iou: 0.7601\n",
      "Epoch 17/30\n",
      "600/603 [============================>.] - ETA: 0s - loss: 0.0833 - mean_iou: 0.7626Epoch 00017: val_loss did not improve\n",
      "603/603 [==============================] - 3s 5ms/step - loss: 0.0832 - mean_iou: 0.7627 - val_loss: 0.0953 - val_mean_iou: 0.7649\n",
      "Epoch 18/30\n",
      "592/603 [============================>.] - ETA: 0s - loss: 0.0777 - mean_iou: 0.7672Epoch 00018: val_loss improved from 0.08973 to 0.08723, saving model to model-dsbowl2018-1.h5\n",
      "603/603 [==============================] - 3s 5ms/step - loss: 0.0783 - mean_iou: 0.7673 - val_loss: 0.0872 - val_mean_iou: 0.7695\n",
      "Epoch 19/30\n",
      "600/603 [============================>.] - ETA: 0s - loss: 0.0789 - mean_iou: 0.7715Epoch 00019: val_loss did not improve\n",
      "603/603 [==============================] - 3s 5ms/step - loss: 0.0790 - mean_iou: 0.7716 - val_loss: 0.0910 - val_mean_iou: 0.7736\n",
      "Epoch 20/30\n",
      "600/603 [============================>.] - ETA: 0s - loss: 0.0780 - mean_iou: 0.7756Epoch 00020: val_loss did not improve\n",
      "603/603 [==============================] - 3s 5ms/step - loss: 0.0778 - mean_iou: 0.7756 - val_loss: 0.0875 - val_mean_iou: 0.7775\n",
      "Epoch 21/30\n",
      "600/603 [============================>.] - ETA: 0s - loss: 0.0753 - mean_iou: 0.7794Epoch 00021: val_loss did not improve\n",
      "603/603 [==============================] - 3s 5ms/step - loss: 0.0753 - mean_iou: 0.7794 - val_loss: 0.0892 - val_mean_iou: 0.7812\n",
      "Epoch 22/30\n",
      "600/603 [============================>.] - ETA: 0s - loss: 0.0747 - mean_iou: 0.7830Epoch 00022: val_loss improved from 0.08723 to 0.08300, saving model to model-dsbowl2018-1.h5\n",
      "603/603 [==============================] - 3s 5ms/step - loss: 0.0746 - mean_iou: 0.7830 - val_loss: 0.0830 - val_mean_iou: 0.7846\n",
      "Epoch 23/30\n",
      "600/603 [============================>.] - ETA: 0s - loss: 0.0750 - mean_iou: 0.7862Epoch 00023: val_loss did not improve\n",
      "603/603 [==============================] - 3s 5ms/step - loss: 0.0752 - mean_iou: 0.7862 - val_loss: 0.0951 - val_mean_iou: 0.7876\n",
      "Epoch 24/30\n",
      "600/603 [============================>.] - ETA: 0s - loss: 0.0745 - mean_iou: 0.7889Epoch 00024: val_loss did not improve\n",
      "603/603 [==============================] - 3s 5ms/step - loss: 0.0749 - mean_iou: 0.7889 - val_loss: 0.0864 - val_mean_iou: 0.7904\n",
      "Epoch 25/30\n",
      "600/603 [============================>.] - ETA: 0s - loss: 0.0754 - mean_iou: 0.7916Epoch 00025: val_loss did not improve\n",
      "603/603 [==============================] - 3s 5ms/step - loss: 0.0756 - mean_iou: 0.7916 - val_loss: 0.0871 - val_mean_iou: 0.7929\n",
      "Epoch 26/30\n",
      "600/603 [============================>.] - ETA: 0s - loss: 0.0746 - mean_iou: 0.7941Epoch 00026: val_loss did not improve\n",
      "603/603 [==============================] - 3s 5ms/step - loss: 0.0747 - mean_iou: 0.7941 - val_loss: 0.0912 - val_mean_iou: 0.7953\n",
      "Epoch 27/30\n",
      "600/603 [============================>.] - ETA: 0s - loss: 0.0745 - mean_iou: 0.7965Epoch 00027: val_loss improved from 0.08300 to 0.08124, saving model to model-dsbowl2018-1.h5\n",
      "603/603 [==============================] - 3s 5ms/step - loss: 0.0743 - mean_iou: 0.7965 - val_loss: 0.0812 - val_mean_iou: 0.7976\n",
      "Epoch 28/30\n",
      "592/603 [============================>.] - ETA: 0s - loss: 0.0715 - mean_iou: 0.7988Epoch 00028: val_loss did not improve\n",
      "603/603 [==============================] - 3s 5ms/step - loss: 0.0716 - mean_iou: 0.7988 - val_loss: 0.0892 - val_mean_iou: 0.7999\n"
     ]
    },
    {
     "name": "stdout",
     "output_type": "stream",
     "text": [
      "Epoch 29/30\n",
      "600/603 [============================>.] - ETA: 0s - loss: 0.0753 - mean_iou: 0.8009Epoch 00029: val_loss did not improve\n",
      "603/603 [==============================] - 3s 5ms/step - loss: 0.0754 - mean_iou: 0.8009 - val_loss: 0.0860 - val_mean_iou: 0.8018\n",
      "Epoch 30/30\n",
      "600/603 [============================>.] - ETA: 0s - loss: 0.0729 - mean_iou: 0.8028Epoch 00030: val_loss did not improve\n",
      "603/603 [==============================] - 3s 5ms/step - loss: 0.0728 - mean_iou: 0.8028 - val_loss: 0.0857 - val_mean_iou: 0.8037\n"
     ]
    }
   ],
   "source": [
    "def model_fit(X_train,Y_train,model_name,epochs,batch_size,validation_split):\n",
    "    earlystopper = EarlyStopping(patience=5, verbose=1)\n",
    "    checkpointer = ModelCheckpoint(model_name, verbose=1, save_best_only=True)\n",
    "    results = model.fit(X_train, Y_train, validation_split=validation_split, \n",
    "                        batch_size=batch_size, epochs=epochs, \n",
    "                        callbacks=[earlystopper, checkpointer])\n",
    "\n",
    "model_name = 'model-dsbowl2018-1.h5'\n",
    "epochs = 30\n",
    "batch_size = 8\n",
    "validation_split = 0.1\n",
    "model_fit(X_train,Y_train,model_name,epochs,batch_size,validation_split)"
   ]
  },
  {
   "cell_type": "code",
   "execution_count": 20,
   "metadata": {
    "scrolled": true
   },
   "outputs": [
    {
     "name": "stdout",
     "output_type": "stream",
     "text": [
      "Train on 603 samples, validate on 67 samples\n",
      "Epoch 1/30\n",
      "592/603 [============================>.] - ETA: 0s - loss: 0.0714 - mean_iou: 0.8531Epoch 00001: val_loss improved from inf to 0.08364, saving model to model-dsbowl2018-1.h5\n",
      "603/603 [==============================] - 5s 8ms/step - loss: 0.0710 - mean_iou: 0.8533 - val_loss: 0.0836 - val_mean_iou: 0.8633\n",
      "Epoch 2/30\n",
      "600/603 [============================>.] - ETA: 0s - loss: 0.0710 - mean_iou: 0.8615Epoch 00002: val_loss did not improve\n",
      "603/603 [==============================] - 3s 5ms/step - loss: 0.0710 - mean_iou: 0.8615 - val_loss: 0.0874 - val_mean_iou: 0.8617\n",
      "Epoch 3/30\n",
      "600/603 [============================>.] - ETA: 0s - loss: 0.0719 - mean_iou: 0.8607Epoch 00003: val_loss did not improve\n",
      "603/603 [==============================] - 3s 5ms/step - loss: 0.0721 - mean_iou: 0.8608 - val_loss: 0.0911 - val_mean_iou: 0.8612\n",
      "Epoch 4/30\n",
      "600/603 [============================>.] - ETA: 0s - loss: 0.0715 - mean_iou: 0.8620Epoch 00004: val_loss improved from 0.08364 to 0.08225, saving model to model-dsbowl2018-1.h5\n",
      "603/603 [==============================] - 3s 5ms/step - loss: 0.0713 - mean_iou: 0.8620 - val_loss: 0.0822 - val_mean_iou: 0.8617\n",
      "Epoch 5/30\n",
      "600/603 [============================>.] - ETA: 0s - loss: 0.0693 - mean_iou: 0.8619Epoch 00005: val_loss did not improve\n",
      "603/603 [==============================] - 3s 5ms/step - loss: 0.0694 - mean_iou: 0.8619 - val_loss: 0.0894 - val_mean_iou: 0.8618\n",
      "Epoch 6/30\n",
      "600/603 [============================>.] - ETA: 0s - loss: 0.0701 - mean_iou: 0.8622 ETA: 0s - loss: 0.0695 - mean_iou: 0.Epoch 00006: val_loss did not improve\n",
      "603/603 [==============================] - 3s 5ms/step - loss: 0.0703 - mean_iou: 0.8622 - val_loss: 0.0828 - val_mean_iou: 0.8621\n",
      "Epoch 7/30\n",
      "600/603 [============================>.] - ETA: 0s - loss: 0.0702 - mean_iou: 0.8622Epoch 00007: val_loss improved from 0.08225 to 0.08217, saving model to model-dsbowl2018-1.h5\n",
      "603/603 [==============================] - 3s 5ms/step - loss: 0.0700 - mean_iou: 0.8622 - val_loss: 0.0822 - val_mean_iou: 0.8624\n",
      "Epoch 8/30\n",
      "600/603 [============================>.] - ETA: 0s - loss: 0.0688 - mean_iou: 0.8630Epoch 00008: val_loss improved from 0.08217 to 0.08216, saving model to model-dsbowl2018-1.h5\n",
      "603/603 [==============================] - 3s 5ms/step - loss: 0.0685 - mean_iou: 0.8630 - val_loss: 0.0822 - val_mean_iou: 0.8630\n",
      "Epoch 9/30\n",
      "592/603 [============================>.] - ETA: 0s - loss: 0.0682 - mean_iou: 0.8631Epoch 00009: val_loss did not improve\n",
      "603/603 [==============================] - 3s 5ms/step - loss: 0.0678 - mean_iou: 0.8631 - val_loss: 0.0843 - val_mean_iou: 0.8633\n",
      "Epoch 10/30\n",
      "592/603 [============================>.] - ETA: 0s - loss: 0.0658 - mean_iou: 0.8636Epoch 00010: val_loss did not improve\n",
      "603/603 [==============================] - 3s 5ms/step - loss: 0.0659 - mean_iou: 0.8636 - val_loss: 0.0864 - val_mean_iou: 0.8641\n",
      "Epoch 11/30\n",
      "600/603 [============================>.] - ETA: 0s - loss: 0.0654 - mean_iou: 0.8646Epoch 00011: val_loss did not improve\n",
      "603/603 [==============================] - 3s 5ms/step - loss: 0.0656 - mean_iou: 0.8646 - val_loss: 0.0873 - val_mean_iou: 0.8647\n",
      "Epoch 12/30\n",
      "600/603 [============================>.] - ETA: 0s - loss: 0.0719 - mean_iou: 0.8641Epoch 00012: val_loss did not improve\n",
      "603/603 [==============================] - 3s 5ms/step - loss: 0.0718 - mean_iou: 0.8641 - val_loss: 0.0833 - val_mean_iou: 0.8643\n",
      "Epoch 13/30\n",
      "600/603 [============================>.] - ETA: 0s - loss: 0.0673 - mean_iou: 0.8645Epoch 00013: val_loss did not improve\n",
      "603/603 [==============================] - 3s 5ms/step - loss: 0.0672 - mean_iou: 0.8645 - val_loss: 0.0882 - val_mean_iou: 0.8645\n",
      "Epoch 00013: early stopping\n"
     ]
    }
   ],
   "source": [
    "# Fit model\n",
    "earlystopper = EarlyStopping(patience=5, verbose=1)\n",
    "checkpointer = ModelCheckpoint('model-dsbowl2018-1.h5', verbose=1, save_best_only=True)\n",
    "results = model.fit(X_train, Y_train, validation_split=0.1, batch_size=8, epochs=30, \n",
    "                    callbacks=[earlystopper, checkpointer])"
   ]
  },
  {
   "cell_type": "markdown",
   "metadata": {},
   "source": [
    "## Make predictions 预测\n",
    "Let's make predictions both on the test set, the val set and the train set (as a sanity check). Remember to load the best saved model if you've used early stopping and checkpointing."
   ]
  },
  {
   "cell_type": "code",
   "execution_count": null,
   "metadata": {},
   "outputs": [],
   "source": [
    "# X_train (670, 128, 128, 3)\n",
    "# Y_train (670, 128, 128, 1)\n",
    "# X_test  (65, 128, 128, 3)"
   ]
  },
  {
   "cell_type": "code",
   "execution_count": 9,
   "metadata": {},
   "outputs": [
    {
     "name": "stdout",
     "output_type": "stream",
     "text": [
      "603/603 [==============================] - 1s 2ms/step\n",
      "67/67 [==============================] - 0s 747us/step\n",
      "65/65 [==============================] - 0s 737us/step\n"
     ]
    }
   ],
   "source": [
    "# Predict on train, val and test\n",
    "model = load_model('model-dsbowl2018-1.h5', custom_objects={'mean_iou': mean_iou})\n",
    "preds_train = model.predict(X_train[:int(X_train.shape[0]*0.9)], verbose=1) # (603, 128, 128, 1)\n",
    "preds_val = model.predict(X_train[int(X_train.shape[0]*0.9):], verbose=1)   # (67, 128, 128, 1)\n",
    "preds_test = model.predict(X_test, verbose=1)  # (65, 128, 128, 1)\n",
    "\n",
    "# Threshold predictions\n",
    "# 二值化\n",
    "preds_train_t = (preds_train > 0.5).astype(np.uint8)\n",
    "preds_val_t = (preds_val > 0.5).astype(np.uint8)\n",
    "preds_test_t = (preds_test > 0.5).astype(np.uint8)\n",
    "\n",
    "# Create list of upsampled test masks\n",
    "# 上采样，回到原来的尺寸\n",
    "preds_test_upsampled = []  # (65,)\n",
    "for i in range(len(preds_test)):\n",
    "    preds_test_upsampled.append(resize(np.squeeze(preds_test[i]), \n",
    "                                       (sizes_test[i][0], sizes_test[i][1]), # 回到原来的尺寸\n",
    "                                       mode='constant', preserve_range=True))"
   ]
  },
  {
   "cell_type": "code",
   "execution_count": 10,
   "metadata": {
    "scrolled": false
   },
   "outputs": [
    {
     "data": {
      "image/png": "[encoded data removed]",
      "text/plain": [
       "<matplotlib.figure.Figure at 0x7faa6ccc94e0>"
      ]
     },
     "metadata": {},
     "output_type": "display_data"
    },
    {
     "data": {
      "image/png": "[encoded data removed]",
      "text/plain": [
       "<matplotlib.figure.Figure at 0x7faa3a4bcc18>"
      ]
     },
     "metadata": {},
     "output_type": "display_data"
    },
    {
     "data": {
      "image/png": "[encoded data removed]",
      "text/plain": [
       "<matplotlib.figure.Figure at 0x7faa3a41f780>"
      ]
     },
     "metadata": {},
     "output_type": "display_data"
    }
   ],
   "source": [
    "# Perform a sanity check on some random training samples\n",
    "ix = random.randint(0, len(preds_train_t))\n",
    "imshow(X_train[ix])\n",
    "plt.show()\n",
    "imshow(np.squeeze(Y_train[ix]))# 128*128*1\n",
    "plt.show()\n",
    "imshow(np.squeeze(preds_train_t[ix])) # 128*128*1\n",
    "plt.show()"
   ]
  },
  {
   "cell_type": "code",
   "execution_count": 18,
   "metadata": {
    "scrolled": false
   },
   "outputs": [
    {
     "data": {
      "image/png": "[encoded data removed]",
      "text/plain": [
       "<matplotlib.figure.Figure at 0x7fdd3918de48>"
      ]
     },
     "metadata": {},
     "output_type": "display_data"
    },
    {
     "data": {
      "image/png": "[encoded data removed]",
      "text/plain": [
       "<matplotlib.figure.Figure at 0x7fdc78614e48>"
      ]
     },
     "metadata": {},
     "output_type": "display_data"
    },
    {
     "data": {
      "image/png": "[encoded data removed]",
      "text/plain": [
       "<matplotlib.figure.Figure at 0x7fdc784c16a0>"
      ]
     },
     "metadata": {},
     "output_type": "display_data"
    }
   ],
   "source": [
    "# Perform a sanity check on some random validation samples\n",
    "ix = random.randint(0, len(preds_val_t))\n",
    "imshow(X_train[int(X_train.shape[0]*0.9):][ix])\n",
    "plt.show()\n",
    "imshow(np.squeeze(Y_train[int(Y_train.shape[0]*0.9):][ix]))\n",
    "plt.show()\n",
    "imshow(np.squeeze(preds_val_t[ix]))\n",
    "plt.show()"
   ]
  },
  {
   "cell_type": "markdown",
   "metadata": {},
   "source": [
    "## Encode and submit our results\n",
    "\n",
    "    Run-Length Encoding（RLE）行程长度的原理是将一扫描行中的颜色值相同的相邻像素用一个计数值和那些像素的颜色值来代替。例如:aaabccccccddeee，则可用3a1b6c2d3e来代替。对于拥有大面积，相同颜色区域的图像，用RLE压缩方法非常有效。由RLE原理派生出许多具体行程压缩方法"
   ]
  },
  {
   "cell_type": "code",
   "execution_count": 25,
   "metadata": {},
   "outputs": [],
   "source": [
    "# Run-length encoding stolen from https://www.kaggle.com/rakhlin/fast-run-length-encoding-python\n",
    "def rle_encoding(x):\n",
    "    dots = np.where(x.T.flatten() == 1)[0]\n",
    "    run_lengths = []\n",
    "    prev = -2\n",
    "    for b in dots:\n",
    "        if (b>prev+1): run_lengths.extend((b + 1, 0))\n",
    "        run_lengths[-1] += 1\n",
    "        prev = b\n",
    "    return run_lengths\n",
    "\n",
    "def prob_to_rles(x, cutoff=0.5):\n",
    "    lab_img = label(x > cutoff)\n",
    "    for i in range(1, lab_img.max() + 1):\n",
    "        yield rle_encoding(lab_img == i)"
   ]
  },
  {
   "cell_type": "code",
   "execution_count": 26,
   "metadata": {},
   "outputs": [],
   "source": [
    "new_test_ids = []\n",
    "rles = []\n",
    "for n, id_ in enumerate(test_ids):\n",
    "    rle = list(prob_to_rles(preds_test_upsampled[n]))\n",
    "    rles.extend(rle)\n",
    "    new_test_ids.extend([id_] * len(rle))"
   ]
  },
  {
   "cell_type": "code",
   "execution_count": 27,
   "metadata": {},
   "outputs": [],
   "source": [
    "# Create submission DataFrame\n",
    "sub = pd.DataFrame()\n",
    "sub['ImageId'] = new_test_ids\n",
    "sub['EncodedPixels'] = pd.Series(rles).apply(lambda x: ' '.join(str(y) for y in x))"
   ]
  },
  {
   "cell_type": "code",
   "execution_count": null,
   "metadata": {},
   "outputs": [],
   "source": [
    "sub.to_csv('sub-dsbowl2018-1.csv', index=False)"
   ]
  }
 ],
 "metadata": {
  "kernelspec": {
   "display_name": "Python 3",
   "language": "python",
   "name": "python3"
  },
  "language_info": {
   "codemirror_mode": {
    "name": "ipython",
    "version": 3
   },
   "file_extension": ".py",
   "mimetype": "text/x-python",
   "name": "python",
   "nbconvert_exporter": "python",
   "pygments_lexer": "ipython3",
   "version": "3.5.2"
  }
 },
 "nbformat": 4,
 "nbformat_minor": 2
}
